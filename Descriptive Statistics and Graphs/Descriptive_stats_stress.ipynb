{
 "cells": [
  {
   "cell_type": "code",
   "execution_count": 1,
   "metadata": {},
   "outputs": [],
   "source": [
    "import pandas as pd\n",
    "import numpy as np\n",
    "import matplotlib.pyplot as plt\n",
    "import seaborn as sns\n",
    "from scipy import stats\n",
    "from sklearn.linear_model import LinearRegression\n",
    "from statsmodels.formula.api import ols\n",
    "import statsmodels.api as sm\n",
    "from statsmodels.stats.outliers_influence import variance_inflation_factor\n",
    "import seaborn as sns\n",
    "import scipy.stats as stats"
   ]
  },
  {
   "cell_type": "code",
   "execution_count": 2,
   "metadata": {},
   "outputs": [],
   "source": [
    "data1 = pd.read_csv(\"final_stress_dataset.csv\")"
   ]
  },
  {
   "cell_type": "code",
   "execution_count": null,
   "metadata": {},
   "outputs": [
    {
     "data": {
      "text/plain": [
       "np.float64(4.502155172413793)"
      ]
     },
     "execution_count": 4,
     "metadata": {},
     "output_type": "execute_result"
    }
   ],
   "source": [
    "np.median(data1['psafe'])\n"
   ]
  },
  {
   "cell_type": "code",
   "execution_count": null,
   "metadata": {},
   "outputs": [
    {
     "data": {
      "text/plain": [
       "np.float64(4.282327586206897)"
      ]
     },
     "execution_count": 3,
     "metadata": {},
     "output_type": "execute_result"
    }
   ],
   "source": [
    "np.mean(data1['stress'])"
   ]
  },
  {
   "cell_type": "code",
   "execution_count": 34,
   "metadata": {},
   "outputs": [
    {
     "data": {
      "text/plain": [
       "np.float64(4.255)"
      ]
     },
     "execution_count": 34,
     "metadata": {},
     "output_type": "execute_result"
    }
   ],
   "source": [
    "np.mean(data1['stress'])"
   ]
  },
  {
   "cell_type": "code",
   "execution_count": null,
   "metadata": {},
   "outputs": [
    {
     "data": {
      "text/plain": [
       "count    116.000000\n",
       "mean       4.551724\n",
       "std        1.741288\n",
       "min        1.000000\n",
       "25%        3.000000\n",
       "50%        5.000000\n",
       "75%        6.000000\n",
       "max        7.000000\n",
       "Name: stress, dtype: float64"
      ]
     },
     "execution_count": 5,
     "metadata": {},
     "output_type": "execute_result"
    }
   ],
   "source": [
    "data1[data1['mode'] == 'car']['stress'].describe() #car mean value=4.49"
   ]
  },
  {
   "cell_type": "code",
   "execution_count": 6,
   "metadata": {},
   "outputs": [
    {
     "data": {
      "text/plain": [
       "count    116.000000\n",
       "mean       3.982759\n",
       "std        1.888099\n",
       "min        1.000000\n",
       "25%        3.000000\n",
       "50%        4.000000\n",
       "75%        5.250000\n",
       "max        7.000000\n",
       "Name: stress, dtype: float64"
      ]
     },
     "execution_count": 6,
     "metadata": {},
     "output_type": "execute_result"
    }
   ],
   "source": [
    "data1[data1['mode'] == 'ebike']['stress'].describe() #e-bike mean value=3.94"
   ]
  },
  {
   "cell_type": "code",
   "execution_count": 7,
   "metadata": {},
   "outputs": [
    {
     "data": {
      "text/plain": [
       "count    116.000000\n",
       "mean       3.568966\n",
       "std        1.970319\n",
       "min        1.000000\n",
       "25%        2.000000\n",
       "50%        3.000000\n",
       "75%        5.000000\n",
       "max        7.000000\n",
       "Name: stress, dtype: float64"
      ]
     },
     "execution_count": 7,
     "metadata": {},
     "output_type": "execute_result"
    }
   ],
   "source": [
    "data1[data1['mode'] == 'escooter']['stress'].describe() #e-scooter mean value= 3.57"
   ]
  },
  {
   "cell_type": "code",
   "execution_count": 8,
   "metadata": {},
   "outputs": [
    {
     "data": {
      "text/plain": [
       "count    116.000000\n",
       "mean       5.025862\n",
       "std        1.890301\n",
       "min        1.000000\n",
       "25%        4.000000\n",
       "50%        5.500000\n",
       "75%        7.000000\n",
       "max        7.000000\n",
       "Name: stress, dtype: float64"
      ]
     },
     "execution_count": 8,
     "metadata": {},
     "output_type": "execute_result"
    }
   ],
   "source": [
    "data1[data1['mode'] == 'walk']['stress'].describe() #walking mean value=5.02"
   ]
  },
  {
   "cell_type": "code",
   "execution_count": 10,
   "metadata": {},
   "outputs": [
    {
     "name": "stdout",
     "output_type": "stream",
     "text": [
      "           Female        Male\n",
      "count  200.000000  200.000000\n",
      "mean     4.140000    4.370000\n",
      "std      1.984969    1.902947\n",
      "min      1.000000    1.000000\n",
      "25%      2.750000    3.000000\n",
      "50%      4.000000    4.500000\n",
      "75%      6.000000    6.000000\n",
      "max      7.000000    7.000000\n"
     ]
    }
   ],
   "source": [
    "#Female\n",
    "Female_psafe = data1[data1['gender'] == 0]['stress'].describe()\n",
    "#Male\n",
    "Male_psafe = data1[data1['gender'] == 1]['stress'].describe()\n",
    "print(pd.DataFrame({\n",
    "    'Female': Female_psafe,\n",
    "    'Male': Male_psafe\n",
    "}))"
   ]
  },
  {
   "cell_type": "code",
   "execution_count": 11,
   "metadata": {},
   "outputs": [
    {
     "name": "stdout",
     "output_type": "stream",
     "text": [
      "       Female Car   Male Car\n",
      "count   50.000000  50.000000\n",
      "mean     4.700000   4.280000\n",
      "std      1.631951   1.852081\n",
      "min      1.000000   1.000000\n",
      "25%      3.000000   3.000000\n",
      "50%      5.000000   5.000000\n",
      "75%      6.000000   5.000000\n",
      "max      7.000000   7.000000\n"
     ]
    }
   ],
   "source": [
    "male_car = data1[(data1['mode'] == 'car') & (data1['gender'] == 0)]['stress'].describe()\n",
    "female_car = data1[(data1['mode'] == 'car') & (data1['gender'] == 1)]['stress'].describe()\n",
    "print(pd.DataFrame({\n",
    "    'Female Car': female_car,\n",
    "    'Male Car': male_car\n",
    "}))"
   ]
  },
  {
   "cell_type": "code",
   "execution_count": 12,
   "metadata": {},
   "outputs": [
    {
     "name": "stdout",
     "output_type": "stream",
     "text": [
      "       Female E-bike  Male E-bike\n",
      "count      50.000000    50.000000\n",
      "mean        3.960000     3.920000\n",
      "std         1.916204     1.759406\n",
      "min         1.000000     1.000000\n",
      "25%         3.000000     3.000000\n",
      "50%         4.000000     4.000000\n",
      "75%         5.000000     5.000000\n",
      "max         7.000000     7.000000\n"
     ]
    }
   ],
   "source": [
    "male_ebike = data1[(data1['mode'] == 'ebike') & (data1['gender'] == 0)]['stress'].describe()\n",
    "female_ebike = data1[(data1['mode'] == 'ebike') & (data1['gender'] == 1)]['stress'].describe()\n",
    "print(pd.DataFrame({\n",
    "    'Female E-bike': female_ebike,\n",
    "    'Male E-bike': male_ebike\n",
    "}))"
   ]
  },
  {
   "cell_type": "code",
   "execution_count": 13,
   "metadata": {},
   "outputs": [
    {
     "name": "stdout",
     "output_type": "stream",
     "text": [
      "       Female E-scooter  Male E-scooter\n",
      "count         50.000000       50.000000\n",
      "mean           3.460000        3.680000\n",
      "std            1.918864        2.084344\n",
      "min            1.000000        1.000000\n",
      "25%            2.000000        2.000000\n",
      "50%            3.000000        3.500000\n",
      "75%            5.000000        6.000000\n",
      "max            7.000000        7.000000\n"
     ]
    }
   ],
   "source": [
    "male_escooter = data1[(data1['mode'] == 'escooter') & (data1['gender'] == 0)]['stress'].describe()\n",
    "female_escooter = data1[(data1['mode'] == 'escooter') & (data1['gender'] == 1)]['stress'].describe()\n",
    "print(pd.DataFrame({\n",
    "    'Female E-scooter': female_escooter,\n",
    "    'Male E-scooter': male_escooter\n",
    "}))\n"
   ]
  },
  {
   "cell_type": "code",
   "execution_count": 14,
   "metadata": {},
   "outputs": [
    {
     "name": "stdout",
     "output_type": "stream",
     "text": [
      "       Female Walk  Male Walk\n",
      "count     50.00000  50.000000\n",
      "mean       5.36000   4.680000\n",
      "std        1.60051   2.132738\n",
      "min        1.00000   1.000000\n",
      "25%        4.00000   3.000000\n",
      "50%        6.00000   5.000000\n",
      "75%        7.00000   7.000000\n",
      "max        7.00000   7.000000\n"
     ]
    }
   ],
   "source": [
    "male_walk = data1[(data1['mode'] == 'walk') & (data1['gender'] == 0)]['stress'].describe()\n",
    "female_walk = data1[(data1['mode'] == 'walk') & (data1['gender'] == 1)]['stress'].describe()\n",
    "print(pd.DataFrame({\n",
    "    'Female Walk': female_walk,\n",
    "    'Male Walk': male_walk\n",
    "}))\n"
   ]
  },
  {
   "cell_type": "code",
   "execution_count": 15,
   "metadata": {},
   "outputs": [
    {
     "name": "stdout",
     "output_type": "stream",
     "text": [
      "       Has a License  Does not have License\n",
      "count     248.000000             152.000000\n",
      "mean        4.346774               4.105263\n",
      "std         1.938505               1.953628\n",
      "min         1.000000               1.000000\n",
      "25%         3.000000               3.000000\n",
      "50%         5.000000               4.000000\n",
      "75%         6.000000               6.000000\n",
      "max         7.000000               7.000000\n"
     ]
    }
   ],
   "source": [
    "owns_license = data1[data1['license_own'] == 1]['stress'].describe()\n",
    "not_owns_license = data1[data1['license_own'] == 0]['stress'].describe()\n",
    "print(pd.DataFrame({\n",
    "    'Has a License': owns_license,\n",
    "    'Does not have License': not_owns_license\n",
    "}))"
   ]
  },
  {
   "cell_type": "code",
   "execution_count": 16,
   "metadata": {},
   "outputs": [
    {
     "name": "stdout",
     "output_type": "stream",
     "text": [
      "       Has a License  Does not have License\n",
      "count      62.000000              38.000000\n",
      "mean        4.596774               4.315789\n",
      "std         1.885751               1.508629\n",
      "min         1.000000               1.000000\n",
      "25%         3.000000               3.000000\n",
      "50%         5.000000               4.000000\n",
      "75%         6.000000               5.000000\n",
      "max         7.000000               7.000000\n"
     ]
    }
   ],
   "source": [
    "owns_license = data1[(data1['mode'] == 'car') & (data1['license_own'] == 1)]['stress'].describe()\n",
    "not_owns_license = data1[(data1['mode'] == 'car') & (data1['license_own'] == 0)]['stress'].describe()\n",
    "print(pd.DataFrame({\n",
    "    'Has a License': owns_license,\n",
    "    'Does not have License': not_owns_license\n",
    "}))"
   ]
  },
  {
   "cell_type": "code",
   "execution_count": null,
   "metadata": {},
   "outputs": [
    {
     "name": "stdout",
     "output_type": "stream",
     "text": [
      "           Type 0     Type 1  Type 2      Type 3\n",
      "count  128.000000  68.000000     0.0  204.000000\n",
      "mean     4.773438   3.544118     NaN    4.166667\n",
      "std      1.977093   1.774057     NaN    1.899356\n",
      "min      1.000000   1.000000     NaN    1.000000\n",
      "25%      3.000000   2.000000     NaN    3.000000\n",
      "50%      5.000000   4.000000     NaN    4.000000\n",
      "75%      6.250000   5.000000     NaN    6.000000\n",
      "max      7.000000   7.000000     NaN    7.000000\n"
     ]
    }
   ],
   "source": [
    "type0 = data1[data1['type'] == 3]['stress'].describe() \n",
    "type1 = data1[data1['type'] == 1]['stress'].describe() \n",
    "type2 = data1[data1['type'] == 2]['stress'].describe() \n",
    "type3 = data1[data1['type'] == 4]['stress'].describe() \n",
    "print(pd.DataFrame({\n",
    "    'Type 0': type0,\n",
    "    'Type 1': type1,\n",
    "    'Type 2': type2,\n",
    "    'Type 3': type3\n",
    "}))"
   ]
  },
  {
   "cell_type": "code",
   "execution_count": null,
   "metadata": {},
   "outputs": [
    {
     "name": "stdout",
     "output_type": "stream",
     "text": [
      "             car      ebike   escooter      walk\n",
      "count  32.000000  32.000000  32.000000  32.00000\n",
      "mean    5.281250   4.531250   3.843750   5.43750\n",
      "std     1.727097   2.140009   1.885588   1.79493\n",
      "min     2.000000   1.000000   1.000000   1.00000\n",
      "25%     4.000000   3.000000   3.000000   4.00000\n",
      "50%     6.000000   5.000000   4.000000   6.00000\n",
      "75%     7.000000   6.000000   5.000000   7.00000\n",
      "max     7.000000   7.000000   7.000000   7.00000\n"
     ]
    }
   ],
   "source": [
    "type0_car = data1[(data1['mode'] == 'car') & (data1['type'] == 3)]['stress'].describe()\n",
    "type0_ebike = data1[(data1['mode'] == 'ebike') & (data1['type'] == 3)]['stress'].describe() #Type 1 smaller sidewalks no cycle lane\n",
    "type0_escoot = data1[(data1['mode'] == 'escooter') & (data1['type'] == 3)]['stress'].describe() #Type 2 bigger sidewalks no cycle lane\n",
    "type0_walk = data1[(data1['mode'] == 'walk') & (data1['type'] == 3)]['stress'].describe()\n",
    "print(pd.DataFrame({\n",
    "    'car': type0_car,\n",
    "    'ebike': type0_ebike,\n",
    "    'escooter': type0_escoot,\n",
    "    'walk': type0_walk\n",
    "}))"
   ]
  },
  {
   "cell_type": "code",
   "execution_count": null,
   "metadata": {},
   "outputs": [
    {
     "name": "stdout",
     "output_type": "stream",
     "text": [
      "             car      ebike   escooter       walk\n",
      "count  17.000000  17.000000  17.000000  17.000000\n",
      "mean    3.411765   3.235294   3.117647   4.411765\n",
      "std     1.543487   1.480262   2.260596   1.543487\n",
      "min     1.000000   1.000000   1.000000   1.000000\n",
      "25%     3.000000   2.000000   1.000000   3.000000\n",
      "50%     4.000000   3.000000   2.000000   5.000000\n",
      "75%     5.000000   4.000000   5.000000   6.000000\n",
      "max     5.000000   6.000000   7.000000   6.000000\n"
     ]
    }
   ],
   "source": [
    "type1_car = data1[(data1['mode'] == 'car') & (data1['type'] == 1)]['stress'].describe()\n",
    "type1_ebike = data1[(data1['mode'] == 'ebike') & (data1['type'] == 1)]['stress'].describe() #Type 1 smaller sidewalks no cycle lane\n",
    "type1_escoot = data1[(data1['mode'] == 'escooter') & (data1['type'] == 1)]['stress'].describe() #Type 2 bigger sidewalks no cycle lane\n",
    "type1_walk = data1[(data1['mode'] == 'walk') & (data1['type'] == 1)]['stress'].describe() \n",
    "print(pd.DataFrame({\n",
    "    'car': type1_car,\n",
    "    'ebike': type1_ebike,\n",
    "    'escooter': type1_escoot,\n",
    "    'walk': type1_walk\n",
    "}))"
   ]
  },
  {
   "cell_type": "code",
   "execution_count": null,
   "metadata": {},
   "outputs": [
    {
     "name": "stdout",
     "output_type": "stream",
     "text": [
      "             car      ebike   escooter       walk\n",
      "count  51.000000  51.000000  51.000000  51.000000\n",
      "mean    4.352941   3.803922   3.549020   4.960784\n",
      "std     1.622634   1.637310   1.983066   2.049007\n",
      "min     1.000000   1.000000   1.000000   1.000000\n",
      "25%     3.000000   3.000000   2.000000   3.500000\n",
      "50%     4.000000   4.000000   3.000000   5.000000\n",
      "75%     5.000000   5.000000   5.000000   7.000000\n",
      "max     7.000000   7.000000   7.000000   7.000000\n"
     ]
    }
   ],
   "source": [
    "type3_car = data1[(data1['mode'] == 'car') & (data1['type'] == 4)]['stress'].describe()\n",
    "type3_ebike = data1[(data1['mode'] == 'ebike') & (data1['type'] == 4)]['stress'].describe() #Type 1 smaller sidewalks no cycle lane\n",
    "type3_escoot = data1[(data1['mode'] == 'escooter') & (data1['type'] == 4)]['stress'].describe() #Type 2 bigger sidewalks no cycle lane\n",
    "type3_walk = data1[(data1['mode'] == 'walk') & (data1['type'] == 4)]['stress'].describe() \n",
    "print(pd.DataFrame({\n",
    "    'car': type3_car,\n",
    "    'ebike': type3_ebike,\n",
    "    'escooter': type3_escoot,\n",
    "    'walk': type3_walk\n",
    "}))"
   ]
  },
  {
   "cell_type": "code",
   "execution_count": 8,
   "metadata": {},
   "outputs": [
    {
     "data": {
      "image/png": "[encoded data removed]",
      "text/plain": [
       "<Figure size 800x600 with 1 Axes>"
      ]
     },
     "metadata": {},
     "output_type": "display_data"
    }
   ],
   "source": [
    "plt.figure(figsize=(8,6))\n",
    "sns.countplot(x=\"stress\", hue=\"mode\", data=data1)\n",
    "plt.show()"
   ]
  }
 ],
 "metadata": {
  "kernelspec": {
   "display_name": "myenv",
   "language": "python",
   "name": "python3"
  },
  "language_info": {
   "codemirror_mode": {
    "name": "ipython",
    "version": 3
   },
   "file_extension": ".py",
   "mimetype": "text/x-python",
   "name": "python",
   "nbconvert_exporter": "python",
   "pygments_lexer": "ipython3",
   "version": "3.12.3"
  }
 },
 "nbformat": 4,
 "nbformat_minor": 2
}
